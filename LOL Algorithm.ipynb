{
 "cells": [
  {
   "cell_type": "code",
   "execution_count": 210,
   "metadata": {},
   "outputs": [],
   "source": [
    "import pandas as pd\n",
    "import numpy as np\n",
    "import matplotlib.pyplot as plt"
   ]
  },
  {
   "cell_type": "code",
   "execution_count": 211,
   "metadata": {},
   "outputs": [
    {
     "data": {
      "text/plain": [
       "League                                                          NALCS\n",
       "Year                                                             2015\n",
       "Season                                                         Spring\n",
       "Type                                                           Season\n",
       "blueTeamTag                                                       CLG\n",
       "bResult                                                             1\n",
       "rResult                                                             0\n",
       "redTeamTag                                                         T8\n",
       "gamelength                                                         35\n",
       "blueTop                                                         Benny\n",
       "blueTopChamp                                                     Gnar\n",
       "blueJungle                                                    Xmithie\n",
       "blueJungleChamp                                              JarvanIV\n",
       "blueMiddle                                                       Link\n",
       "blueMiddleChamp                                             Lissandra\n",
       "blueADC                                                    Doublelift\n",
       "blueADCChamp                                                 Tristana\n",
       "blueSupport                                                  aphromoo\n",
       "blueSupportChamp                                                Janna\n",
       "redTop                                                    CaliTrlolz8\n",
       "redTopChamp                                                      Sion\n",
       "redJungle                                                   Porpoise8\n",
       "redJungleChamp                                                 RekSai\n",
       "redMiddle                                                    Slooshi8\n",
       "redMiddleChamp                                                   Lulu\n",
       "redADC                                                   Maplestreet8\n",
       "redADCChamp                                                     Corki\n",
       "redSupport                                                      Dodo8\n",
       "redSupportChamp                                                 Annie\n",
       "Address             http://matchhistory.na.leagueoflegends.com/en/...\n",
       "Name: 4, dtype: object"
      ]
     },
     "execution_count": 211,
     "metadata": {},
     "output_type": "execute_result"
    }
   ],
   "source": [
    "df=pd.read_csv(\"C:/Users/Cody/Downloads/leagueoflegends/matchinfo.csv\")\n",
    "df.iloc[4]"
   ]
  },
  {
   "cell_type": "code",
   "execution_count": 212,
   "metadata": {},
   "outputs": [],
   "source": [
    "df1=pd.read_csv(\"C:/Users/Cody/Downloads/leagueoflegends/matchinfo.csv\", usecols=['blueTopChamp', 'blueMiddleChamp',\n",
    "                                                                                'blueJungleChamp', 'blueADCChamp',\n",
    "                                                                                'blueSupportChamp', 'bResult','gamelength'])"
   ]
  },
  {
   "cell_type": "code",
   "execution_count": 213,
   "metadata": {},
   "outputs": [],
   "source": [
    "df1.sort_values('blueTopChamp', inplace=True)"
   ]
  },
  {
   "cell_type": "code",
   "execution_count": 214,
   "metadata": {},
   "outputs": [],
   "source": [
    "columns = ['blueTopChamp', 'blueMiddleChamp', 'blueJungleChamp', 'blueADCChamp', 'blueSupportChamp']"
   ]
  },
  {
   "cell_type": "code",
   "execution_count": 215,
   "metadata": {},
   "outputs": [
    {
     "data": {
      "text/html": [
       "<div>\n",
       "<style scoped>\n",
       "    .dataframe tbody tr th:only-of-type {\n",
       "        vertical-align: middle;\n",
       "    }\n",
       "\n",
       "    .dataframe tbody tr th {\n",
       "        vertical-align: top;\n",
       "    }\n",
       "\n",
       "    .dataframe thead th {\n",
       "        text-align: right;\n",
       "    }\n",
       "</style>\n",
       "<table border=\"1\" class=\"dataframe\">\n",
       "  <thead>\n",
       "    <tr style=\"text-align: right;\">\n",
       "      <th></th>\n",
       "      <th>bResult</th>\n",
       "      <th>gamelength</th>\n",
       "      <th>blueTopChamp</th>\n",
       "      <th>blueJungleChamp</th>\n",
       "      <th>blueMiddleChamp</th>\n",
       "      <th>blueADCChamp</th>\n",
       "      <th>blueSupportChamp</th>\n",
       "    </tr>\n",
       "  </thead>\n",
       "  <tbody>\n",
       "    <tr>\n",
       "      <td>1868</td>\n",
       "      <td>0</td>\n",
       "      <td>25</td>\n",
       "      <td>Akali</td>\n",
       "      <td>Elise</td>\n",
       "      <td>Lucian</td>\n",
       "      <td>Twitch</td>\n",
       "      <td>Braum</td>\n",
       "    </tr>\n",
       "    <tr>\n",
       "      <td>3219</td>\n",
       "      <td>1</td>\n",
       "      <td>29</td>\n",
       "      <td>Akali</td>\n",
       "      <td>RekSai</td>\n",
       "      <td>Galio</td>\n",
       "      <td>Ashe</td>\n",
       "      <td>Blitzcrank</td>\n",
       "    </tr>\n",
       "    <tr>\n",
       "      <td>6341</td>\n",
       "      <td>0</td>\n",
       "      <td>31</td>\n",
       "      <td>Akali</td>\n",
       "      <td>RekSai</td>\n",
       "      <td>Viktor</td>\n",
       "      <td>Caitlyn</td>\n",
       "      <td>Morgana</td>\n",
       "    </tr>\n",
       "    <tr>\n",
       "      <td>1615</td>\n",
       "      <td>0</td>\n",
       "      <td>34</td>\n",
       "      <td>Akali</td>\n",
       "      <td>Hecarim</td>\n",
       "      <td>Leblanc</td>\n",
       "      <td>Jhin</td>\n",
       "      <td>Sion</td>\n",
       "    </tr>\n",
       "    <tr>\n",
       "      <td>4973</td>\n",
       "      <td>1</td>\n",
       "      <td>34</td>\n",
       "      <td>Akali</td>\n",
       "      <td>Zac</td>\n",
       "      <td>Taliyah</td>\n",
       "      <td>Xayah</td>\n",
       "      <td>Thresh</td>\n",
       "    </tr>\n",
       "  </tbody>\n",
       "</table>\n",
       "</div>"
      ],
      "text/plain": [
       "      bResult  gamelength blueTopChamp blueJungleChamp blueMiddleChamp  \\\n",
       "1868        0          25        Akali           Elise          Lucian   \n",
       "3219        1          29        Akali          RekSai           Galio   \n",
       "6341        0          31        Akali          RekSai          Viktor   \n",
       "1615        0          34        Akali         Hecarim         Leblanc   \n",
       "4973        1          34        Akali             Zac         Taliyah   \n",
       "\n",
       "     blueADCChamp blueSupportChamp  \n",
       "1868       Twitch            Braum  \n",
       "3219         Ashe       Blitzcrank  \n",
       "6341      Caitlyn          Morgana  \n",
       "1615         Jhin             Sion  \n",
       "4973        Xayah           Thresh  "
      ]
     },
     "execution_count": 215,
     "metadata": {},
     "output_type": "execute_result"
    }
   ],
   "source": [
    "df1[df1['blueTopChamp'] == 'Akali']"
   ]
  },
  {
   "cell_type": "code",
   "execution_count": 216,
   "metadata": {},
   "outputs": [],
   "source": [
    "champlist = []\n",
    "for i in range (len(columns)):\n",
    "    df2 = df1.drop_duplicates(subset=columns[i])\n",
    "    [x, y] = df2.shape\n",
    "    for j in range (x):\n",
    "        if df2[columns[i]].iloc[j] not in champlist:\n",
    "            champlist.append(df2[columns[i]].iloc[j])"
   ]
  },
  {
   "cell_type": "code",
   "execution_count": 217,
   "metadata": {},
   "outputs": [],
   "source": [
    "thetas = np.zeros((5, 1))\n",
    "X = np.ones((5, 1))\n",
    "y = 0\n",
    "e = 2.718\n",
    "\n",
    "\n",
    "\n",
    "def sigmoid(z):\n",
    "    A = 1 / (1 + e**z)\n",
    "    return A"
   ]
  },
  {
   "cell_type": "code",
   "execution_count": 218,
   "metadata": {},
   "outputs": [],
   "source": [
    "thetalist = pd.DataFrame(np.zeros((len(champlist), 1)), index=champlist, columns=['theta1'])"
   ]
  },
  {
   "cell_type": "code",
   "execution_count": null,
   "metadata": {},
   "outputs": [],
   "source": []
  },
  {
   "cell_type": "code",
   "execution_count": 222,
   "metadata": {},
   "outputs": [],
   "source": [
    "for m in range (df1.shape[0]):\n",
    "    champs = []\n",
    "    champs.append(df1.iloc[m]['blueTopChamp'])\n",
    "    champs.append(df1.iloc[m]['blueMiddleChamp'])\n",
    "    champs.append(df1.iloc[m]['blueJungleChamp'])\n",
    "    champs.append(df1.iloc[m]['blueADCChamp'])\n",
    "    champs.append(df1.iloc[m]['blueSupportChamp'])\n",
    "    y = df1.iloc[m]['bResult']\n",
    "\n",
    "    for i in range (5):\n",
    "        thetas[i] = thetalist.loc[champs[i]]\n",
    "        \n",
    "    predictions = thetas.T.dot(X)\n",
    "    cost.append(float(-y * np.log10(sigmoid(predictions)) - (1-y) * np.log10(1 - sigmoid(predictions))))\n",
    "    \n",
    "    for i in range(len(thetas)):\n",
    "        A = 0.01 / len(thetas) * X[i] * e**(-1 * predictions) / (np.log(10) * (1 + e**(-1 * predictions))**2)\n",
    "        A = A * (y / sigmoid(predictions) + (1 - y) / 1 - sigmoid(predictions))\n",
    "        thetas[i] = thetas[i] + A\n",
    "    \n",
    "    for i in range (len(thetas)):\n",
    "        thetalist['theta1'][champs[i]] = thetas[i]"
   ]
  },
  {
   "cell_type": "code",
   "execution_count": 223,
   "metadata": {},
   "outputs": [
    {
     "data": {
      "text/html": [
       "<div>\n",
       "<style scoped>\n",
       "    .dataframe tbody tr th:only-of-type {\n",
       "        vertical-align: middle;\n",
       "    }\n",
       "\n",
       "    .dataframe tbody tr th {\n",
       "        vertical-align: top;\n",
       "    }\n",
       "\n",
       "    .dataframe thead th {\n",
       "        text-align: right;\n",
       "    }\n",
       "</style>\n",
       "<table border=\"1\" class=\"dataframe\">\n",
       "  <thead>\n",
       "    <tr style=\"text-align: right;\">\n",
       "      <th></th>\n",
       "      <th>theta1</th>\n",
       "    </tr>\n",
       "  </thead>\n",
       "  <tbody>\n",
       "    <tr>\n",
       "      <td>Leona</td>\n",
       "      <td>0.021788</td>\n",
       "    </tr>\n",
       "    <tr>\n",
       "      <td>Brand</td>\n",
       "      <td>0.009747</td>\n",
       "    </tr>\n",
       "    <tr>\n",
       "      <td>Annie</td>\n",
       "      <td>0.042505</td>\n",
       "    </tr>\n",
       "    <tr>\n",
       "      <td>Soraka</td>\n",
       "      <td>0.026309</td>\n",
       "    </tr>\n",
       "    <tr>\n",
       "      <td>Sona</td>\n",
       "      <td>0.007366</td>\n",
       "    </tr>\n",
       "  </tbody>\n",
       "</table>\n",
       "</div>"
      ],
      "text/plain": [
       "          theta1\n",
       "Leona   0.021788\n",
       "Brand   0.009747\n",
       "Annie   0.042505\n",
       "Soraka  0.026309\n",
       "Sona    0.007366"
      ]
     },
     "execution_count": 223,
     "metadata": {},
     "output_type": "execute_result"
    }
   ],
   "source": [
    "thetalist.tail(5)"
   ]
  },
  
  {
   "cell_type": "markdown",
   "metadata": {},
   "source": [
    "# Begin line by line implementation"
   ]
  },
  {
   "cell_type": "code",
   "execution_count": 144,
   "metadata": {},
   "outputs": [
    {
     "data": {
      "text/plain": [
       "['Akali', 'Lucian', 'Elise', 'Twitch', 'Braum']"
      ]
     },
     "execution_count": 144,
     "metadata": {},
     "output_type": "execute_result"
    }
   ],
   "source": [
    "\n",
    "\n",
    "m = 0\n",
    "champs.append(df1.iloc[m]['blueTopChamp'])\n",
    "champs.append(df1.iloc[m]['blueMiddleChamp'])\n",
    "champs.append(df1.iloc[m]['blueJungleChamp'])\n",
    "champs.append(df1.iloc[m]['blueADCChamp'])\n",
    "champs.append(df1.iloc[m]['blueSupportChamp'])\n",
    "champs"
   ]
  },
  {
   "cell_type": "code",
   "execution_count": 145,
   "metadata": {},
   "outputs": [],
   "source": [
    "y = df1.iloc[m]['bResult']\n",
    "\n",
    "for i in range (5):\n",
    "    thetas[i] = thetalist.loc[champs[i]]"
   ]
  },
  {
   "cell_type": "code",
   "execution_count": 147,
   "metadata": {},
   "outputs": [
    {
     "data": {
      "text/plain": [
       "array([[0.]])"
      ]
     },
     "execution_count": 147,
     "metadata": {},
     "output_type": "execute_result"
    }
   ],
   "source": [
    "predictions = thetas.T.dot(X)"
   ]
  },
  {
   "cell_type": "code",
   "execution_count": 149,
   "metadata": {},
   "outputs": [
    {
     "data": {
      "text/plain": [
       "array([[0.30103]])"
      ]
     },
     "execution_count": 149,
     "metadata": {},
     "output_type": "execute_result"
    }
   ],
   "source": [
    "cost = []\n",
    "cost.append(-Y * np.log10(sigmoid(predictions)) - (1-y) * np.log10(1 - sigmoid(predictions)))"
   ]
  },
  {
   "cell_type": "code",
   "execution_count": 150,
   "metadata": {},
   "outputs": [],
   "source": [
    "for i in range(len(thetas)):\n",
    "        thetas[i] = thetas[i] + (0.01 / len(thetas) * X[i] * e**(-1 * predictions) / (np.log(10) * (1 + e**(-1 * predictions))**2) * (y / sigmoid(predictions) + (1 - y) / 1 - sigmoid(predictions)))"
   ]
  },
  {
   "cell_type": "code",
   "execution_count": 159,
   "metadata": {},
   "outputs": [
    {
     "data": {
      "text/html": [
       "<div>\n",
       "<style scoped>\n",
       "    .dataframe tbody tr th:only-of-type {\n",
       "        vertical-align: middle;\n",
       "    }\n",
       "\n",
       "    .dataframe tbody tr th {\n",
       "        vertical-align: top;\n",
       "    }\n",
       "\n",
       "    .dataframe thead th {\n",
       "        text-align: right;\n",
       "    }\n",
       "</style>\n",
       "<table border=\"1\" class=\"dataframe\">\n",
       "  <thead>\n",
       "    <tr style=\"text-align: right;\">\n",
       "      <th></th>\n",
       "      <th>theta1</th>\n",
       "    </tr>\n",
       "  </thead>\n",
       "  <tbody>\n",
       "    <tr>\n",
       "      <td>Akali</td>\n",
       "      <td>0.0</td>\n",
       "    </tr>\n",
       "    <tr>\n",
       "      <td>Alistar</td>\n",
       "      <td>0.0</td>\n",
       "    </tr>\n",
       "    <tr>\n",
       "      <td>Azir</td>\n",
       "      <td>0.0</td>\n",
       "    </tr>\n",
       "    <tr>\n",
       "      <td>Bard</td>\n",
       "      <td>0.0</td>\n",
       "    </tr>\n",
       "    <tr>\n",
       "      <td>Blitzcrank</td>\n",
       "      <td>0.0</td>\n",
       "    </tr>\n",
       "    <tr>\n",
       "      <td>...</td>\n",
       "      <td>...</td>\n",
       "    </tr>\n",
       "    <tr>\n",
       "      <td>Leona</td>\n",
       "      <td>0.0</td>\n",
       "    </tr>\n",
       "    <tr>\n",
       "      <td>Brand</td>\n",
       "      <td>0.0</td>\n",
       "    </tr>\n",
       "    <tr>\n",
       "      <td>Annie</td>\n",
       "      <td>0.0</td>\n",
       "    </tr>\n",
       "    <tr>\n",
       "      <td>Soraka</td>\n",
       "      <td>0.0</td>\n",
       "    </tr>\n",
       "    <tr>\n",
       "      <td>Sona</td>\n",
       "      <td>0.0</td>\n",
       "    </tr>\n",
       "  </tbody>\n",
       "</table>\n",
       "<p>136 rows × 1 columns</p>\n",
       "</div>"
      ],
      "text/plain": [
       "            theta1\n",
       "Akali          0.0\n",
       "Alistar        0.0\n",
       "Azir           0.0\n",
       "Bard           0.0\n",
       "Blitzcrank     0.0\n",
       "...            ...\n",
       "Leona          0.0\n",
       "Brand          0.0\n",
       "Annie          0.0\n",
       "Soraka         0.0\n",
       "Sona           0.0\n",
       "\n",
       "[136 rows x 1 columns]"
      ]
     },
     "execution_count": 159,
     "metadata": {},
     "output_type": "execute_result"
    }
   ],
   "source": [
    "thetalist"
   ]
  },
  {
   "cell_type": "code",
   "execution_count": 160,
   "metadata": {},
   "outputs": [],
   "source": [
    "for i in range (len(thetas)):\n",
    "    thetalist['theta1'][champs[i]] = thetas[i]"
   ]
  },
  {
   "cell_type": "code",
   "execution_count": 161,
   "metadata": {},
   "outputs": [
    {
     "data": {
      "text/html": [
       "<div>\n",
       "<style scoped>\n",
       "    .dataframe tbody tr th:only-of-type {\n",
       "        vertical-align: middle;\n",
       "    }\n",
       "\n",
       "    .dataframe tbody tr th {\n",
       "        vertical-align: top;\n",
       "    }\n",
       "\n",
       "    .dataframe thead th {\n",
       "        text-align: right;\n",
       "    }\n",
       "</style>\n",
       "<table border=\"1\" class=\"dataframe\">\n",
       "  <thead>\n",
       "    <tr style=\"text-align: right;\">\n",
       "      <th></th>\n",
       "      <th>theta1</th>\n",
       "    </tr>\n",
       "  </thead>\n",
       "  <tbody>\n",
       "    <tr>\n",
       "      <td>Akali</td>\n",
       "      <td>0.000109</td>\n",
       "    </tr>\n",
       "    <tr>\n",
       "      <td>Alistar</td>\n",
       "      <td>0.000000</td>\n",
       "    </tr>\n",
       "    <tr>\n",
       "      <td>Azir</td>\n",
       "      <td>0.000000</td>\n",
       "    </tr>\n",
       "    <tr>\n",
       "      <td>Bard</td>\n",
       "      <td>0.000000</td>\n",
       "    </tr>\n",
       "    <tr>\n",
       "      <td>Blitzcrank</td>\n",
       "      <td>0.000000</td>\n",
       "    </tr>\n",
       "    <tr>\n",
       "      <td>...</td>\n",
       "      <td>...</td>\n",
       "    </tr>\n",
       "    <tr>\n",
       "      <td>Leona</td>\n",
       "      <td>0.000000</td>\n",
       "    </tr>\n",
       "    <tr>\n",
       "      <td>Brand</td>\n",
       "      <td>0.000000</td>\n",
       "    </tr>\n",
       "    <tr>\n",
       "      <td>Annie</td>\n",
       "      <td>0.000000</td>\n",
       "    </tr>\n",
       "    <tr>\n",
       "      <td>Soraka</td>\n",
       "      <td>0.000000</td>\n",
       "    </tr>\n",
       "    <tr>\n",
       "      <td>Sona</td>\n",
       "      <td>0.000000</td>\n",
       "    </tr>\n",
       "  </tbody>\n",
       "</table>\n",
       "<p>136 rows × 1 columns</p>\n",
       "</div>"
      ],
      "text/plain": [
       "              theta1\n",
       "Akali       0.000109\n",
       "Alistar     0.000000\n",
       "Azir        0.000000\n",
       "Bard        0.000000\n",
       "Blitzcrank  0.000000\n",
       "...              ...\n",
       "Leona       0.000000\n",
       "Brand       0.000000\n",
       "Annie       0.000000\n",
       "Soraka      0.000000\n",
       "Sona        0.000000\n",
       "\n",
       "[136 rows x 1 columns]"
      ]
     },
     "execution_count": 161,
     "metadata": {},
     "output_type": "execute_result"
    }
   ],
   "source": []
  },
  {
   "cell_type": "code",
   "execution_count": 209,
   "metadata": {},
   "outputs": [
    {
     "data": {
      "text/plain": [
       "1"
      ]
     },
     "execution_count": 209,
     "metadata": {},
     "output_type": "execute_result"
    }
   ],
   "source": [
    "y"
   ]
  },
  {
   "cell_type": "code",
   "execution_count": null,
   "metadata": {},
   "outputs": [],
   "source": []
  }
 ],
 "metadata": {
  "kernelspec": {
   "display_name": "Python 3",
   "language": "python",
   "name": "python3"
  },
  "language_info": {
   "codemirror_mode": {
    "name": "ipython",
    "version": 3
   },
   "file_extension": ".py",
   "mimetype": "text/x-python",
   "name": "python",
   "nbconvert_exporter": "python",
   "pygments_lexer": "ipython3",
   "version": "3.7.4"
  }
 },
 "nbformat": 4,
 "nbformat_minor": 2
}
